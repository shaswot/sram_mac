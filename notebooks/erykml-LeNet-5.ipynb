{
 "cells": [
  {
   "cell_type": "code",
   "execution_count": null,
   "id": "64508092-f4ab-44fb-a90c-b568898b7c58",
   "metadata": {},
   "outputs": [],
   "source": [
    "# SOURCE: https://github.com/erykml/medium_articles/blob/master/Computer%20Vision/lenet5_pytorch.ipynb"
   ]
  },
  {
   "cell_type": "code",
   "execution_count": 1,
   "id": "88f284bf-3e52-4b51-b2a8-48b0a8d279d4",
   "metadata": {
    "tags": []
   },
   "outputs": [],
   "source": [
    "import torch\n",
    "import torch.nn as nn\n",
    "import torch.nn.functional as F\n",
    "from torch.utils.data import DataLoader\n",
    "from torchvision import datasets, transforms\n",
    "\n",
    "import random\n",
    "import numpy as np\n",
    "import matplotlib.pyplot as plt\n",
    "\n",
    "from datetime import datetime\n",
    "\n",
    "# check device\n",
    "DEVICE = 'cuda' if torch.cuda.is_available() else 'cpu'"
   ]
  },
  {
   "cell_type": "code",
   "execution_count": 2,
   "id": "ab382599-e5a0-4861-9ef2-02f482adcc34",
   "metadata": {},
   "outputs": [],
   "source": [
    "# set seed\n",
    "seed = 42\n",
    "torch.manual_seed(seed)\n",
    "random.seed(seed)\n",
    "np.random.seed(seed)"
   ]
  },
  {
   "cell_type": "code",
   "execution_count": 3,
   "id": "689a6144-cb71-4143-a9c9-4bf5d64d9c86",
   "metadata": {},
   "outputs": [],
   "source": [
    "# parameters\n",
    "LEARNING_RATE = 0.001\n",
    "BATCH_SIZE = 32\n",
    "N_EPOCHS = 15\n",
    "\n",
    "IMG_SIZE = 32\n",
    "N_CLASSES = 10"
   ]
  },
  {
   "cell_type": "code",
   "execution_count": 4,
   "id": "be0d39e0-1717-41c0-9cb9-77a7815ca22c",
   "metadata": {},
   "outputs": [],
   "source": [
    "def get_accuracy(model, data_loader, device):\n",
    "    '''\n",
    "    Function for computing the accuracy of the predictions over the entire data_loader\n",
    "    '''\n",
    "    \n",
    "    correct_pred = 0 \n",
    "    n = 0\n",
    "    \n",
    "    with torch.no_grad():\n",
    "        model.eval()\n",
    "        for X, y_true in data_loader:\n",
    "\n",
    "            X = X.to(device)\n",
    "            y_true = y_true.to(device)\n",
    "\n",
    "            _, y_prob = model(X)\n",
    "            _, predicted_labels = torch.max(y_prob, 1)\n",
    "\n",
    "            n += y_true.size(0)\n",
    "            correct_pred += (predicted_labels == y_true).sum()\n",
    "\n",
    "    return correct_pred.float() / n"
   ]
  },
  {
   "cell_type": "code",
   "execution_count": 4,
   "id": "7ba85584-9680-48e7-9121-f8ea0210799c",
   "metadata": {},
   "outputs": [],
   "source": [
    "def plot_losses(train_losses, valid_losses):\n",
    "    '''\n",
    "    Function for plotting training and validation losses\n",
    "    '''\n",
    "    \n",
    "    # temporarily change the style of the plots to seaborn \n",
    "    plt.style.use('seaborn')\n",
    "\n",
    "    train_losses = np.array(train_losses) \n",
    "    valid_losses = np.array(valid_losses)\n",
    "\n",
    "    fig, ax = plt.subplots(figsize = (8, 4.5))\n",
    "\n",
    "    ax.plot(train_losses, color='blue', label='Training loss') \n",
    "    ax.plot(valid_losses, color='red', label='Validation loss')\n",
    "    ax.set(title=\"Loss over epochs\", \n",
    "            xlabel='Epoch',\n",
    "            ylabel='Loss') \n",
    "    ax.legend()\n",
    "    fig.show()\n",
    "    \n",
    "    # change the plot style to default\n",
    "    plt.style.use('default')"
   ]
  },
  {
   "cell_type": "code",
   "execution_count": 4,
   "id": "4cc6ec03-7525-4c39-a614-6a7cb3db5221",
   "metadata": {},
   "outputs": [],
   "source": [
    "def train(train_loader, \n",
    "          model, \n",
    "          criterion, \n",
    "          optimizer, \n",
    "          device):\n",
    "    '''\n",
    "    Function for the training step of the training loop\n",
    "    '''\n",
    "\n",
    "    model.train()\n",
    "    running_loss = 0\n",
    "    \n",
    "    for X, y_true in train_loader:\n",
    "\n",
    "        optimizer.zero_grad()\n",
    "        \n",
    "        X = X.to(device)\n",
    "        y_true = y_true.to(device)\n",
    "    \n",
    "        # Forward pass\n",
    "        y_hat, _ = model(X) \n",
    "        loss = criterion(y_hat, y_true) \n",
    "        running_loss += loss.item() * X.size(0)\n",
    "\n",
    "        # Backward pass\n",
    "        loss.backward()\n",
    "        optimizer.step()\n",
    "        \n",
    "    epoch_loss = running_loss / len(train_loader.dataset)\n",
    "    return model, optimizer, epoch_loss"
   ]
  },
  {
   "cell_type": "code",
   "execution_count": 4,
   "id": "2ff3aea9-aaad-415a-b637-9890a67a0c3a",
   "metadata": {},
   "outputs": [],
   "source": [
    "def validate(valid_loader, model, criterion, device):\n",
    "    '''\n",
    "    Function for the validation step of the training loop\n",
    "    '''\n",
    "   \n",
    "    model.eval()\n",
    "    running_loss = 0\n",
    "    \n",
    "    for X, y_true in valid_loader:\n",
    "    \n",
    "        X = X.to(device)\n",
    "        y_true = y_true.to(device)\n",
    "\n",
    "        # Forward pass and record loss\n",
    "        y_hat, _ = model(X) \n",
    "        loss = criterion(y_hat, y_true) \n",
    "        running_loss += loss.item() * X.size(0)\n",
    "\n",
    "    epoch_loss = running_loss / len(valid_loader.dataset)\n",
    "        \n",
    "    return model, epoch_loss"
   ]
  },
  {
   "cell_type": "code",
   "execution_count": 4,
   "id": "5e6ee6ee-4cd6-4f1c-9281-c68bb71da0fe",
   "metadata": {},
   "outputs": [],
   "source": [
    "def training_loop(model, \n",
    "                  criterion, \n",
    "                  optimizer, \n",
    "                  train_loader, \n",
    "                  valid_loader, \n",
    "                  epochs, \n",
    "                  device, \n",
    "                  print_every=1):\n",
    "    '''\n",
    "    Function defining the entire training loop\n",
    "    '''\n",
    "    \n",
    "    # set objects for storing metrics\n",
    "    best_loss = 1e10\n",
    "    train_losses = []\n",
    "    valid_losses = []\n",
    " \n",
    "    # Train model\n",
    "    for epoch in range(0, epochs):\n",
    "\n",
    "        # training\n",
    "        model, optimizer, train_loss = train(train_loader, \n",
    "                                             model, \n",
    "                                             criterion, \n",
    "                                             optimizer, \n",
    "                                             device)\n",
    "        train_losses.append(train_loss)\n",
    "\n",
    "        # validation\n",
    "        with torch.no_grad():\n",
    "            model, valid_loss = validate(valid_loader, \n",
    "                                         model, \n",
    "                                         criterion, \n",
    "                                         device)\n",
    "            valid_losses.append(valid_loss)\n",
    "\n",
    "        if epoch % print_every == (print_every - 1):\n",
    "            \n",
    "            train_acc = get_accuracy(model, train_loader, device=device)\n",
    "            valid_acc = get_accuracy(model, valid_loader, device=device)\n",
    "                \n",
    "            print(f'{datetime.now().time().replace(microsecond=0)} --- '\n",
    "                  f'Epoch: {epoch}\\t'\n",
    "                  f'Train loss: {train_loss:.4f}\\t'\n",
    "                  f'Valid loss: {valid_loss:.4f}\\t'\n",
    "                  f'Train accuracy: {100 * train_acc:.2f}\\t'\n",
    "                  f'Valid accuracy: {100 * valid_acc:.2f}')\n",
    "\n",
    "    plot_losses(train_losses, valid_losses)\n",
    "    \n",
    "    return model, optimizer, (train_losses, valid_losses)"
   ]
  },
  {
   "cell_type": "code",
   "execution_count": 5,
   "id": "986b22f9-be96-40bc-a046-6eb9744ec8a3",
   "metadata": {
    "tags": []
   },
   "outputs": [],
   "source": [
    "# define transforms\n",
    "# transforms.ToTensor() automatically scales the images to [0,1] range\n",
    "transforms = transforms.Compose([transforms.Resize((32, 32)),\n",
    "                                 transforms.ToTensor()])\n",
    "\n",
    "# download and create datasets\n",
    "train_dataset = datasets.MNIST(root='mnist_data', \n",
    "                               train=True, \n",
    "                               transform=transforms,\n",
    "                               download=True)\n",
    "\n",
    "valid_dataset = datasets.MNIST(root='mnist_data', \n",
    "                               train=False, \n",
    "                               transform=transforms)\n",
    "\n",
    "# define the data loaders\n",
    "train_loader = DataLoader(dataset=train_dataset, \n",
    "                          batch_size=BATCH_SIZE, \n",
    "                          shuffle=True)\n",
    "\n",
    "valid_loader = DataLoader(dataset=valid_dataset, \n",
    "                          batch_size=BATCH_SIZE, \n",
    "                          shuffle=False)"
   ]
  },
  {
   "cell_type": "code",
   "execution_count": 6,
   "id": "247c2b08-7b4b-466f-962f-d7fd90030ef3",
   "metadata": {
    "tags": []
   },
   "outputs": [],
   "source": [
    "class LeNet5(nn.Module):\n",
    "\n",
    "    def __init__(self, n_classes):\n",
    "        super(LeNet5, self).__init__()\n",
    "        \n",
    "        self.feature_extractor = nn.Sequential(            \n",
    "            nn.Conv2d(in_channels=1, out_channels=6, kernel_size=5, stride=1),\n",
    "            nn.Tanh(),\n",
    "            nn.AvgPool2d(kernel_size=2),\n",
    "            nn.Conv2d(in_channels=6, out_channels=16, kernel_size=5, stride=1),\n",
    "            nn.Tanh(),\n",
    "            nn.AvgPool2d(kernel_size=2),\n",
    "            nn.Conv2d(in_channels=16, out_channels=120, kernel_size=5, stride=1),\n",
    "            nn.Tanh()\n",
    "        )\n",
    "\n",
    "        self.classifier = nn.Sequential(\n",
    "            nn.Linear(in_features=120, out_features=84),\n",
    "            nn.Tanh(),\n",
    "            nn.Linear(in_features=84, out_features=n_classes),\n",
    "        )\n",
    "\n",
    "\n",
    "    def forward(self, x):\n",
    "        x = self.feature_extractor(x)\n",
    "        x = torch.flatten(x, 1)\n",
    "        logits = self.classifier(x)\n",
    "        probs = F.softmax(logits, dim=1)\n",
    "        return logits, probs"
   ]
  },
  {
   "cell_type": "code",
   "execution_count": 7,
   "id": "45bb65da-c805-4090-a590-28cfd29c5d61",
   "metadata": {},
   "outputs": [],
   "source": [
    "model = LeNet5(N_CLASSES).to(DEVICE)\n",
    "optimizer = torch.optim.Adam(model.parameters(), lr=LEARNING_RATE)\n",
    "criterion = nn.CrossEntropyLoss()"
   ]
  },
  {
   "cell_type": "code",
   "execution_count": 8,
   "id": "5c5851d2-0494-45da-bea1-b46b82d3ff93",
   "metadata": {
    "tags": []
   },
   "outputs": [
    {
     "name": "stdout",
     "output_type": "stream",
     "text": [
      "17:30:54 --- Epoch: 0\tTrain loss: 0.2290\tValid loss: 0.1020\tTrain accuracy: 96.84\tValid accuracy: 96.81\n",
      "17:31:15 --- Epoch: 1\tTrain loss: 0.0762\tValid loss: 0.0619\tTrain accuracy: 98.39\tValid accuracy: 98.19\n",
      "17:31:35 --- Epoch: 2\tTrain loss: 0.0550\tValid loss: 0.0542\tTrain accuracy: 98.59\tValid accuracy: 98.45\n",
      "17:31:54 --- Epoch: 3\tTrain loss: 0.0438\tValid loss: 0.0486\tTrain accuracy: 99.07\tValid accuracy: 98.41\n",
      "17:32:15 --- Epoch: 4\tTrain loss: 0.0343\tValid loss: 0.0416\tTrain accuracy: 99.24\tValid accuracy: 98.75\n",
      "17:32:36 --- Epoch: 5\tTrain loss: 0.0299\tValid loss: 0.0425\tTrain accuracy: 99.41\tValid accuracy: 98.63\n",
      "17:32:56 --- Epoch: 6\tTrain loss: 0.0245\tValid loss: 0.0474\tTrain accuracy: 99.44\tValid accuracy: 98.54\n",
      "17:33:16 --- Epoch: 7\tTrain loss: 0.0212\tValid loss: 0.0411\tTrain accuracy: 99.55\tValid accuracy: 98.80\n",
      "17:33:36 --- Epoch: 8\tTrain loss: 0.0189\tValid loss: 0.0537\tTrain accuracy: 99.33\tValid accuracy: 98.56\n",
      "17:33:56 --- Epoch: 9\tTrain loss: 0.0167\tValid loss: 0.0490\tTrain accuracy: 99.59\tValid accuracy: 98.55\n",
      "17:34:16 --- Epoch: 10\tTrain loss: 0.0158\tValid loss: 0.0500\tTrain accuracy: 99.60\tValid accuracy: 98.66\n",
      "17:34:35 --- Epoch: 11\tTrain loss: 0.0137\tValid loss: 0.0430\tTrain accuracy: 99.65\tValid accuracy: 98.81\n",
      "17:34:55 --- Epoch: 12\tTrain loss: 0.0140\tValid loss: 0.0499\tTrain accuracy: 99.64\tValid accuracy: 98.68\n",
      "17:35:15 --- Epoch: 13\tTrain loss: 0.0119\tValid loss: 0.0531\tTrain accuracy: 99.55\tValid accuracy: 98.66\n",
      "17:35:35 --- Epoch: 14\tTrain loss: 0.0123\tValid loss: 0.0436\tTrain accuracy: 99.64\tValid accuracy: 98.84\n"
     ]
    },
    {
     "data": {
      "image/png": "[encoded data removed]",
      "text/plain": [
       "<Figure size 576x324 with 1 Axes>"
      ]
     },
     "metadata": {},
     "output_type": "display_data"
    }
   ],
   "source": [
    "model, optimizer, _ = training_loop(model, \n",
    "                                    criterion, \n",
    "                                    optimizer, \n",
    "                                    train_loader, \n",
    "                                    valid_loader, \n",
    "                                    N_EPOCHS, \n",
    "                                    DEVICE)"
   ]
  }
 ],
 "metadata": {
  "kernelspec": {
   "display_name": "Python 3 (ipykernel)",
   "language": "python",
   "name": "python3"
  },
  "language_info": {
   "codemirror_mode": {
    "name": "ipython",
    "version": 3
   },
   "file_extension": ".py",
   "mimetype": "text/x-python",
   "name": "python",
   "nbconvert_exporter": "python",
   "pygments_lexer": "ipython3",
   "version": "3.8.13"
  }
 },
 "nbformat": 4,
 "nbformat_minor": 5
}
