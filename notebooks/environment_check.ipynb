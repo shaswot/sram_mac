{
 "cells": [
  {
   "cell_type": "code",
   "execution_count": 4,
   "id": "bc1c900d-6e34-4566-a02c-74811dd034ff",
   "metadata": {},
   "outputs": [
    {
     "name": "stdout",
     "output_type": "stream",
     "text": [
      "GPU:  True\n",
      "GPU Name:  NVIDIA GeForce RTX 2080 Ti\n"
     ]
    }
   ],
   "source": [
    "import torch\n",
    "import numpy\n",
    "print(\"GPU: \", torch.cuda.is_available())\n",
    "print(\"GPU Name: \", torch.cuda.get_device_name(0))"
   ]
  },
  {
   "cell_type": "code",
   "execution_count": 5,
   "id": "58a887bc-f91e-4724-8baf-443aed6ea3c6",
   "metadata": {},
   "outputs": [
    {
     "name": "stdout",
     "output_type": "stream",
     "text": [
      "torch:  1.11.0\n",
      "numpy:  1.21.5\n"
     ]
    }
   ],
   "source": [
    "print(\"torch: \", torch.__version__)\n",
    "print(\"numpy: \", numpy.__version__)"
   ]
  },
  {
   "cell_type": "code",
   "execution_count": null,
   "id": "4f394edb-5bec-4f6b-b6c0-60b46649a7ba",
   "metadata": {},
   "outputs": [],
   "source": []
  }
 ],
 "metadata": {
  "kernelspec": {
   "display_name": "Python 3 (ipykernel)",
   "language": "python",
   "name": "python3"
  },
  "language_info": {
   "codemirror_mode": {
    "name": "ipython",
    "version": 3
   },
   "file_extension": ".py",
   "mimetype": "text/x-python",
   "name": "python",
   "nbconvert_exporter": "python",
   "pygments_lexer": "ipython3",
   "version": "3.8.13"
  }
 },
 "nbformat": 4,
 "nbformat_minor": 5
}
